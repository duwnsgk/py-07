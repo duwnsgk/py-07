{
  "nbformat": 4,
  "nbformat_minor": 0,
  "metadata": {
    "colab": {
      "name": "wk02_variables.ipynb의 사본",
      "version": "0.3.2",
      "provenance": [],
      "include_colab_link": true
    },
    "kernelspec": {
      "name": "python3",
      "display_name": "Python 3"
    }
  },
  "cells": [
    {
      "cell_type": "markdown",
      "metadata": {
        "id": "view-in-github",
        "colab_type": "text"
      },
      "source": [
        "[View in Colaboratory](https://colab.research.google.com/github/duwnsgk/py-07/blob/master/wk02_variables.ipynb)"
      ]
    },
    {
      "metadata": {
        "id": "JCWszR_O8Lj5",
        "colab_type": "text"
      },
      "cell_type": "markdown",
      "source": [
        ""
      ]
    },
    {
      "metadata": {
        "id": "EGfx3CJ78NYp",
        "colab_type": "toc"
      },
      "cell_type": "markdown",
      "source": [
        ">>>[변수(variables)](#updateTitle=true&folderId=1qNIsvog6gpQjFGkXOnskN7Gm_wASv0oH&scrollTo=Oj0OjZS58Ira)\n",
        "\n",
        ">>>[숫자와 문자열 처리](#updateTitle=true&folderId=1qNIsvog6gpQjFGkXOnskN7Gm_wASv0oH&scrollTo=9Iwxlu4_uVot)\n",
        "\n",
        ">>>[변수type](#updateTitle=true&folderId=1qNIsvog6gpQjFGkXOnskN7Gm_wASv0oH&scrollTo=deKP61pevWzh)\n",
        "\n",
        ">[현재 파이썬에서 사용하고있는 것들](#updateTitle=true&folderId=1qNIsvog6gpQjFGkXOnskN7Gm_wASv0oH&scrollTo=wnGF-eDlv2SQ)\n",
        "\n",
        ">>>[문자열을 숫자로 변환:int(),float()](#updateTitle=true&folderId=1qNIsvog6gpQjFGkXOnskN7Gm_wASv0oH&scrollTo=64m8NJQ0wkBB)\n",
        "\n",
        ">>[user input](#updateTitle=true&folderId=1qNIsvog6gpQjFGkXOnskN7Gm_wASv0oH&scrollTo=z1_dmv0v1t9f)\n",
        "\n",
        ">>>[code block&Indentation](#updateTitle=true&folderId=1qNIsvog6gpQjFGkXOnskN7Gm_wASv0oH&scrollTo=OEe6UxmZ2VgI)\n",
        "\n",
        ">>>[도전코딩 1.BMI=M/H**2,M(kg),H(m))](#updateTitle=true&folderId=1qNIsvog6gpQjFGkXOnskN7Gm_wASv0oH&scrollTo=4HsnZODw2_Vo)\n",
        "\n",
        ">>>[도전코딩 1.  Fat burning](#updateTitle=true&folderId=1qNIsvog6gpQjFGkXOnskN7Gm_wASv0oH&scrollTo=bgRnjM_B59kj)\n",
        "\n"
      ]
    },
    {
      "metadata": {
        "id": "Oj0OjZS58Ira",
        "colab_type": "text"
      },
      "cell_type": "markdown",
      "source": [
        "### 변수(variables)\n"
      ]
    },
    {
      "metadata": {
        "id": "9Iwxlu4_uVot",
        "colab_type": "text"
      },
      "cell_type": "markdown",
      "source": [
        "### 숫자와 문자열 처리"
      ]
    },
    {
      "metadata": {
        "id": "ln2Ue386uYhR",
        "colab_type": "code",
        "colab": {
          "base_uri": "https://localhost:8080/",
          "height": 208
        },
        "outputId": "d11d0d71-06b4-4f29-f65c-6d1fec5d7431"
      },
      "cell_type": "code",
      "source": [
        "day=3\n",
        "data=day+\"일\"\n",
        "print(data)"
      ],
      "execution_count": 0,
      "outputs": [
        {
          "output_type": "error",
          "ename": "TypeError",
          "evalue": "ignored",
          "traceback": [
            "\u001b[0;31m---------------------------------------------------------------------------\u001b[0m",
            "\u001b[0;31mTypeError\u001b[0m                                 Traceback (most recent call last)",
            "\u001b[0;32m<ipython-input-17-f6de623354aa>\u001b[0m in \u001b[0;36m<module>\u001b[0;34m()\u001b[0m\n\u001b[1;32m      1\u001b[0m \u001b[0mday\u001b[0m\u001b[0;34m=\u001b[0m\u001b[0;36m3\u001b[0m\u001b[0;34m\u001b[0m\u001b[0m\n\u001b[0;32m----> 2\u001b[0;31m \u001b[0mdata\u001b[0m\u001b[0;34m=\u001b[0m\u001b[0mday\u001b[0m\u001b[0;34m+\u001b[0m\u001b[0;34m\"일\"\u001b[0m\u001b[0;34m\u001b[0m\u001b[0m\n\u001b[0m\u001b[1;32m      3\u001b[0m \u001b[0mprint\u001b[0m\u001b[0;34m(\u001b[0m\u001b[0mdata\u001b[0m\u001b[0;34m)\u001b[0m\u001b[0;34m\u001b[0m\u001b[0m\n",
            "\u001b[0;31mTypeError\u001b[0m: unsupported operand type(s) for +: 'int' and 'str'"
          ]
        }
      ]
    },
    {
      "metadata": {
        "id": "OwueCMoluke0",
        "colab_type": "code",
        "colab": {
          "base_uri": "https://localhost:8080/",
          "height": 35
        },
        "outputId": "6cfc1922-66ed-4ad4-b0c6-2d427052419b"
      },
      "cell_type": "code",
      "source": [
        "data=str(day)+\"일\"\n",
        "print(data)"
      ],
      "execution_count": 0,
      "outputs": [
        {
          "output_type": "stream",
          "text": [
            "3일\n"
          ],
          "name": "stdout"
        }
      ]
    },
    {
      "metadata": {
        "id": "vQk684L6u7_k",
        "colab_type": "code",
        "colab": {
          "base_uri": "https://localhost:8080/",
          "height": 35
        },
        "outputId": "429ecf2e-575f-4e52-a2b5-eb641f074e00"
      },
      "cell_type": "code",
      "source": [
        "day=3\n",
        "str_day=str(day)\n",
        "data=str_day+\"일\"\n",
        "print(data)"
      ],
      "execution_count": 0,
      "outputs": [
        {
          "output_type": "stream",
          "text": [
            "3일\n"
          ],
          "name": "stdout"
        }
      ]
    },
    {
      "metadata": {
        "id": "hXIbR41dvJsT",
        "colab_type": "code",
        "colab": {}
      },
      "cell_type": "code",
      "source": [
        ""
      ],
      "execution_count": 0,
      "outputs": []
    },
    {
      "metadata": {
        "id": "deKP61pevWzh",
        "colab_type": "text"
      },
      "cell_type": "markdown",
      "source": [
        "### 변수type"
      ]
    },
    {
      "metadata": {
        "id": "myOFd-m4vaxk",
        "colab_type": "code",
        "colab": {
          "base_uri": "https://localhost:8080/",
          "height": 35
        },
        "outputId": "edd56bda-5bfc-41c6-8abb-cf198c514266"
      },
      "cell_type": "code",
      "source": [
        "#변수 type\n",
        "type(day)"
      ],
      "execution_count": 0,
      "outputs": [
        {
          "output_type": "execute_result",
          "data": {
            "text/plain": [
              "int"
            ]
          },
          "metadata": {
            "tags": []
          },
          "execution_count": 20
        }
      ]
    },
    {
      "metadata": {
        "id": "1VK9DAxUvfzJ",
        "colab_type": "code",
        "colab": {
          "base_uri": "https://localhost:8080/",
          "height": 35
        },
        "outputId": "735046ae-4fce-477d-e34b-fb3ef8a756ba"
      },
      "cell_type": "code",
      "source": [
        "type(day),type(str_day),type(data)"
      ],
      "execution_count": 0,
      "outputs": [
        {
          "output_type": "execute_result",
          "data": {
            "text/plain": [
              "(int, str, str)"
            ]
          },
          "metadata": {
            "tags": []
          },
          "execution_count": 21
        }
      ]
    },
    {
      "metadata": {
        "id": "wnGF-eDlv2SQ",
        "colab_type": "text"
      },
      "cell_type": "markdown",
      "source": [
        "#현재 파이썬에서 사용하고있는 것들\n"
      ]
    },
    {
      "metadata": {
        "id": "M3szGQpAvtOG",
        "colab_type": "code",
        "colab": {
          "base_uri": "https://localhost:8080/",
          "height": 1205
        },
        "outputId": "93b37c27-be8e-4f95-fbd4-86bb3a49bb25"
      },
      "cell_type": "code",
      "source": [
        "dir()"
      ],
      "execution_count": 0,
      "outputs": [
        {
          "output_type": "execute_result",
          "data": {
            "text/plain": [
              "['In',\n",
              " 'Out',\n",
              " '_',\n",
              " '_1',\n",
              " '_13',\n",
              " '_2',\n",
              " '_20',\n",
              " '_21',\n",
              " '_3',\n",
              " '_4',\n",
              " '_5',\n",
              " '_6',\n",
              " '_9',\n",
              " '_TensorFlowImportHook',\n",
              " '__',\n",
              " '___',\n",
              " '__builtin__',\n",
              " '__builtins__',\n",
              " '__doc__',\n",
              " '__loader__',\n",
              " '__name__',\n",
              " '__package__',\n",
              " '__spec__',\n",
              " '_dh',\n",
              " '_i',\n",
              " '_i1',\n",
              " '_i10',\n",
              " '_i11',\n",
              " '_i12',\n",
              " '_i13',\n",
              " '_i14',\n",
              " '_i15',\n",
              " '_i16',\n",
              " '_i17',\n",
              " '_i18',\n",
              " '_i19',\n",
              " '_i2',\n",
              " '_i20',\n",
              " '_i21',\n",
              " '_i22',\n",
              " '_i3',\n",
              " '_i4',\n",
              " '_i5',\n",
              " '_i6',\n",
              " '_i7',\n",
              " '_i8',\n",
              " '_i9',\n",
              " '_ih',\n",
              " '_ii',\n",
              " '_iii',\n",
              " '_oh',\n",
              " '_sh',\n",
              " 'data',\n",
              " 'datetime',\n",
              " 'day',\n",
              " 'exit',\n",
              " 'get_ipython',\n",
              " 'imp',\n",
              " 'logging',\n",
              " 'os',\n",
              " 'psy',\n",
              " 'quit',\n",
              " 'register_hook',\n",
              " 'some_var',\n",
              " 'str_day',\n",
              " 'sys']"
            ]
          },
          "metadata": {
            "tags": []
          },
          "execution_count": 22
        }
      ]
    },
    {
      "metadata": {
        "id": "DPqdpFdavwmb",
        "colab_type": "code",
        "colab": {}
      },
      "cell_type": "code",
      "source": [
        ""
      ],
      "execution_count": 0,
      "outputs": []
    },
    {
      "metadata": {
        "id": "64m8NJQ0wkBB",
        "colab_type": "text"
      },
      "cell_type": "markdown",
      "source": [
        "### 문자열을 숫자로 변환:int(),float()"
      ]
    },
    {
      "metadata": {
        "id": "5e3MJ1fRwqY8",
        "colab_type": "code",
        "colab": {}
      },
      "cell_type": "code",
      "source": [
        "num=int(\"31\")\n",
        "pi=float('3.141592')"
      ],
      "execution_count": 0,
      "outputs": []
    },
    {
      "metadata": {
        "id": "qF8aEUdRwzm5",
        "colab_type": "code",
        "colab": {
          "base_uri": "https://localhost:8080/",
          "height": 35
        },
        "outputId": "1ab50f49-c00f-4807-8d64-f4e1d04687af"
      },
      "cell_type": "code",
      "source": [
        "#num.pi\n",
        "num"
      ],
      "execution_count": 0,
      "outputs": [
        {
          "output_type": "execute_result",
          "data": {
            "text/plain": [
              "31"
            ]
          },
          "metadata": {
            "tags": []
          },
          "execution_count": 24
        }
      ]
    },
    {
      "metadata": {
        "id": "JW22H6k9w3UH",
        "colab_type": "code",
        "colab": {
          "base_uri": "https://localhost:8080/",
          "height": 35
        },
        "outputId": "733aafe6-761f-4e77-b85c-be45c22d9997"
      },
      "cell_type": "code",
      "source": [
        "pi,type(pi)"
      ],
      "execution_count": 0,
      "outputs": [
        {
          "output_type": "execute_result",
          "data": {
            "text/plain": [
              "(3.141592, float)"
            ]
          },
          "metadata": {
            "tags": []
          },
          "execution_count": 29
        }
      ]
    },
    {
      "metadata": {
        "id": "mcTycbZvxHr3",
        "colab_type": "code",
        "colab": {
          "base_uri": "https://localhost:8080/",
          "height": 35
        },
        "outputId": "9794b671-f4cf-49bc-b626-74c2a47d86e6"
      },
      "cell_type": "code",
      "source": [
        "print(\"num={},pi={}\" .format(num,pi))"
      ],
      "execution_count": 0,
      "outputs": [
        {
          "output_type": "stream",
          "text": [
            "num=31,pi=3.141592\n"
          ],
          "name": "stdout"
        }
      ]
    },
    {
      "metadata": {
        "id": "q3sJuuE3xkrr",
        "colab_type": "code",
        "colab": {}
      },
      "cell_type": "code",
      "source": [
        ""
      ],
      "execution_count": 0,
      "outputs": []
    },
    {
      "metadata": {
        "id": "IC3gQuWA0qI3",
        "colab_type": "text"
      },
      "cell_type": "markdown",
      "source": [
        "예약어(keywords)"
      ]
    },
    {
      "metadata": {
        "id": "kNET1mCy0uH2",
        "colab_type": "code",
        "colab": {
          "base_uri": "https://localhost:8080/",
          "height": 35
        },
        "outputId": "d4a91193-0d7a-4a82-846d-1effcb7cb4a6"
      },
      "cell_type": "code",
      "source": [
        "import keyword\n",
        "\n",
        "#파이썬의 예약어 수\n",
        "\n",
        "len(keyword.kwlist)"
      ],
      "execution_count": 0,
      "outputs": [
        {
          "output_type": "execute_result",
          "data": {
            "text/plain": [
              "33"
            ]
          },
          "metadata": {
            "tags": []
          },
          "execution_count": 39
        }
      ]
    },
    {
      "metadata": {
        "id": "7eiKsppj0_2F",
        "colab_type": "code",
        "colab": {
          "base_uri": "https://localhost:8080/",
          "height": 611
        },
        "outputId": "710b91f4-0cc2-4bbf-c843-e95c8ff8f712"
      },
      "cell_type": "code",
      "source": [
        "#예약어 목록\n",
        "keyword.kwlist"
      ],
      "execution_count": 0,
      "outputs": [
        {
          "output_type": "execute_result",
          "data": {
            "text/plain": [
              "['False',\n",
              " 'None',\n",
              " 'True',\n",
              " 'and',\n",
              " 'as',\n",
              " 'assert',\n",
              " 'break',\n",
              " 'class',\n",
              " 'continue',\n",
              " 'def',\n",
              " 'del',\n",
              " 'elif',\n",
              " 'else',\n",
              " 'except',\n",
              " 'finally',\n",
              " 'for',\n",
              " 'from',\n",
              " 'global',\n",
              " 'if',\n",
              " 'import',\n",
              " 'in',\n",
              " 'is',\n",
              " 'lambda',\n",
              " 'nonlocal',\n",
              " 'not',\n",
              " 'or',\n",
              " 'pass',\n",
              " 'raise',\n",
              " 'return',\n",
              " 'try',\n",
              " 'while',\n",
              " 'with',\n",
              " 'yield']"
            ]
          },
          "metadata": {
            "tags": []
          },
          "execution_count": 40
        }
      ]
    },
    {
      "metadata": {
        "id": "TOh1j3VO1YmK",
        "colab_type": "code",
        "colab": {
          "base_uri": "https://localhost:8080/",
          "height": 136
        },
        "outputId": "5681f2a3-beb0-494e-95eb-a595a1eb0081"
      },
      "cell_type": "code",
      "source": [
        "as=\"inje\""
      ],
      "execution_count": 0,
      "outputs": [
        {
          "output_type": "error",
          "ename": "SyntaxError",
          "evalue": "ignored",
          "traceback": [
            "\u001b[0;36m  File \u001b[0;32m\"<ipython-input-43-27193235377c>\"\u001b[0;36m, line \u001b[0;32m1\u001b[0m\n\u001b[0;31m    as=\"inje\"\u001b[0m\n\u001b[0m     ^\u001b[0m\n\u001b[0;31mSyntaxError\u001b[0m\u001b[0;31m:\u001b[0m invalid syntax\n"
          ]
        }
      ]
    },
    {
      "metadata": {
        "id": "8Xl7FHoo1fED",
        "colab_type": "code",
        "colab": {
          "base_uri": "https://localhost:8080/",
          "height": 35
        },
        "outputId": "1b936ac2-c8d2-4c17-dec6-9fab43a969bf"
      },
      "cell_type": "code",
      "source": [
        "#해결방법 인제 앞에 _쓴다\n",
        "_as= \"inje\"\n",
        "_as"
      ],
      "execution_count": 0,
      "outputs": [
        {
          "output_type": "execute_result",
          "data": {
            "text/plain": [
              "'inje'"
            ]
          },
          "metadata": {
            "tags": []
          },
          "execution_count": 44
        }
      ]
    },
    {
      "metadata": {
        "id": "6GYy_mhs1jfm",
        "colab_type": "code",
        "colab": {}
      },
      "cell_type": "code",
      "source": [
        ""
      ],
      "execution_count": 0,
      "outputs": []
    },
    {
      "metadata": {
        "id": "z1_dmv0v1t9f",
        "colab_type": "text"
      },
      "cell_type": "markdown",
      "source": [
        "## user input"
      ]
    },
    {
      "metadata": {
        "id": "4Nn53EA51wnO",
        "colab_type": "code",
        "colab": {
          "base_uri": "https://localhost:8080/",
          "height": 35
        },
        "outputId": "d2fb212f-489b-4e0b-ed3a-f7411827703a"
      },
      "cell_type": "code",
      "source": [
        "name = input(\"please write down your name here!\")\n",
        "#input 함수 = 값을 입력받는다"
      ],
      "execution_count": 0,
      "outputs": [
        {
          "output_type": "stream",
          "text": [
            "please write down your name here!헬스케어 it\n"
          ],
          "name": "stdout"
        }
      ]
    },
    {
      "metadata": {
        "id": "L3G2dhJa18c5",
        "colab_type": "code",
        "colab": {
          "base_uri": "https://localhost:8080/",
          "height": 35
        },
        "outputId": "2883b9e8-cd7d-4d43-f2ba-be292e80ec8f"
      },
      "cell_type": "code",
      "source": [
        "name"
      ],
      "execution_count": 0,
      "outputs": [
        {
          "output_type": "execute_result",
          "data": {
            "text/plain": [
              "'헬스케어it'"
            ]
          },
          "metadata": {
            "tags": []
          },
          "execution_count": 46
        }
      ]
    },
    {
      "metadata": {
        "id": "x1aFk2EE2RnR",
        "colab_type": "code",
        "colab": {}
      },
      "cell_type": "code",
      "source": [
        ""
      ],
      "execution_count": 0,
      "outputs": []
    },
    {
      "metadata": {
        "id": "OEe6UxmZ2VgI",
        "colab_type": "text"
      },
      "cell_type": "markdown",
      "source": [
        "### code block&Indentation"
      ]
    },
    {
      "metadata": {
        "id": "RynFHY7S2WiY",
        "colab_type": "code",
        "colab": {
          "base_uri": "https://localhost:8080/",
          "height": 35
        },
        "outputId": "c8a5ee8b-7c5d-4396-f7a9-187760b9e608"
      },
      "cell_type": "code",
      "source": [
        "if(10<3): #파이썬은 들여쓰기 잘못해도 오류가남\n",
        "  \n",
        "  print('inside if block')\n",
        "  print('still in side if block')\n",
        "\n",
        "print('outside if block!')"
      ],
      "execution_count": 0,
      "outputs": [
        {
          "output_type": "stream",
          "text": [
            "outside if block!\n"
          ],
          "name": "stdout"
        }
      ]
    },
    {
      "metadata": {
        "id": "4HsnZODw2_Vo",
        "colab_type": "text"
      },
      "cell_type": "markdown",
      "source": [
        "### 도전코딩 1.BMI=M/H**2,M(kg),H(m))"
      ]
    },
    {
      "metadata": {
        "id": "8CcbLABL2psc",
        "colab_type": "code",
        "colab": {
          "base_uri": "https://localhost:8080/",
          "height": 71
        },
        "outputId": "795ad37d-03fa-451c-9701-2a675e466bc1"
      },
      "cell_type": "code",
      "source": [
        "heigth =float(input(\"your height in meters:\"))\n",
        "weigth =int(input(\"your weigth in kilogram:\"))\n",
        "BMI = round(weigth/(heigth*heigth),1)\n",
        "BMI"
      ],
      "execution_count": 0,
      "outputs": [
        {
          "output_type": "stream",
          "text": [
            "your height in meters:177.1\n",
            "your weigth in kilogram:64\n"
          ],
          "name": "stdout"
        },
        {
          "output_type": "execute_result",
          "data": {
            "text/plain": [
              "0.0"
            ]
          },
          "metadata": {
            "tags": []
          },
          "execution_count": 56
        }
      ]
    },
    {
      "metadata": {
        "id": "bgRnjM_B59kj",
        "colab_type": "text"
      },
      "cell_type": "markdown",
      "source": [
        "### 도전코딩 1.  Fat burning"
      ]
    },
    {
      "metadata": {
        "id": "snTOHUzQ5-Pq",
        "colab_type": "code",
        "colab": {}
      },
      "cell_type": "code",
      "source": [
        "#조깅에서 1kg 지방을 태우는 데 몇 시간 걸리는지를 계산\n",
        "cal_per_1kg_fat = 7200 # 지방 1kg 연소에 필요한 열량\n",
        "\n",
        "cal_per_1min_jog = 7.76 # 조깅 1 분에 의한 소비 칼로리"
      ],
      "execution_count": 0,
      "outputs": []
    },
    {
      "metadata": {
        "id": "A6QcV3OQ6IOh",
        "colab_type": "code",
        "colab": {
          "base_uri": "https://localhost:8080/",
          "height": 53
        },
        "outputId": "f5eaef3c-12fa-487e-a166-dcf4e144b4a7"
      },
      "cell_type": "code",
      "source": [
        "#조깅에서 1kg 체중 감소하는데 몇 분이 필요할까?\n",
        "min_to_lose1kg = cal_per_1kg_fat/cal_per_1min_jog\n",
        "hours_to_lose1kg = min_to_lose1kg/60 # 분을 시간으로 환산\n",
        "print(round(hours_to_lose1kg,1))\n",
        "print(str(round(hours_to_lose1kg,1))+\"시간\")\n",
        "#str함수를 이용하여 문자열을 숫자로 환산"
      ],
      "execution_count": 0,
      "outputs": [
        {
          "output_type": "stream",
          "text": [
            "15.5\n",
            "15.5시간\n"
          ],
          "name": "stdout"
        }
      ]
    },
    {
      "metadata": {
        "id": "TT0g4wI762HR",
        "colab_type": "code",
        "colab": {
          "base_uri": "https://localhost:8080/",
          "height": 35
        },
        "outputId": "29a63c1e-9c32-4f48-a920-661973ca043e"
      },
      "cell_type": "code",
      "source": [
        "print(\"{}시간\".format(round(hours_to_lose1kg,1)))"
      ],
      "execution_count": 0,
      "outputs": [
        {
          "output_type": "stream",
          "text": [
            "15.5시간\n"
          ],
          "name": "stdout"
        }
      ]
    },
    {
      "metadata": {
        "id": "XyB68jUo7IhY",
        "colab_type": "code",
        "colab": {}
      },
      "cell_type": "code",
      "source": [
        ""
      ],
      "execution_count": 0,
      "outputs": []
    }
  ]
}