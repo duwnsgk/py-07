{
  "nbformat": 4,
  "nbformat_minor": 0,
  "metadata": {
    "colab": {
      "name": "Summary_datatypes.ipynb의 사본",
      "version": "0.3.2",
      "provenance": [],
      "include_colab_link": true
    },
    "kernelspec": {
      "name": "python3",
      "display_name": "Python 3"
    }
  },
  "cells": [
    {
      "cell_type": "markdown",
      "metadata": {
        "id": "view-in-github",
        "colab_type": "text"
      },
      "source": [
        "[View in Colaboratory](https://colab.research.google.com/github/duwnsgk/py-07/blob/master/Summary_datatypes_ipynb%EC%9D%98_%EC%82%AC%EB%B3%B8.ipynb)"
      ]
    },
    {
      "metadata": {
        "id": "GRAZpl0K52nt",
        "colab_type": "code",
        "colab": {}
      },
      "cell_type": "code",
      "source": [
        ""
      ],
      "execution_count": 0,
      "outputs": []
    },
    {
      "metadata": {
        "id": "TechuQbk6Cx9",
        "colab_type": "text"
      },
      "cell_type": "markdown",
      "source": [
        "## Summary of datatypes in python\n",
        "\n",
        "- list\n",
        "- dictionary\n",
        "- tuple\n",
        "- set\n",
        "- string"
      ]
    },
    {
      "metadata": {
        "id": "CVBBwp8t6Wgs",
        "colab_type": "text"
      },
      "cell_type": "markdown",
      "source": [
        "### 리스트 생성및 항목추가"
      ]
    },
    {
      "metadata": {
        "id": "w9B83t2G6bkc",
        "colab_type": "code",
        "colab": {}
      },
      "cell_type": "code",
      "source": [
        ""
      ],
      "execution_count": 0,
      "outputs": []
    },
    {
      "metadata": {
        "id": "TXjQrLb47QyU",
        "colab_type": "code",
        "colab": {}
      },
      "cell_type": "code",
      "source": [
        "a = [ 10,20,30,40,50]\n",
        "\n"
      ],
      "execution_count": 0,
      "outputs": []
    },
    {
      "metadata": {
        "id": "kO6HPDmh7aCN",
        "colab_type": "code",
        "colab": {
          "base_uri": "https://localhost:8080/",
          "height": 53
        },
        "outputId": "21eee931-1a4b-4158-9b55-793bf5e3a94c"
      },
      "cell_type": "code",
      "source": [
        "#0,1,2. . . 인덱스는 리스트 처음부터 시작\n",
        "#-1,-2 . . . 인덱스는 리스트 마지막 부터 시작\n",
        "\n",
        "print(\"a[0]==\", a[0], \",a[2]==\", a[2], \" , a[4]==\", a[4])\n",
        "print(\"a[-1]==\", a[-1], \",a[-2]==\", a[-2], \"a[-5]==\", a[-5])"
      ],
      "execution_count": 0,
      "outputs": [
        {
          "output_type": "stream",
          "text": [
            "a[0]== 10 ,a[2]== 30  , a[4]== 50\n",
            "a[-1]== 50 ,a[-2]== 40 a[-5]== 10\n"
          ],
          "name": "stdout"
        }
      ]
    },
    {
      "metadata": {
        "id": "dsuyWFyf9eGq",
        "colab_type": "code",
        "colab": {}
      },
      "cell_type": "code",
      "source": [
        ""
      ],
      "execution_count": 0,
      "outputs": []
    },
    {
      "metadata": {
        "id": "JA2qcowgB8Xq",
        "colab_type": "text"
      },
      "cell_type": "markdown",
      "source": [
        "### 데이터 타입 리스트 "
      ]
    },
    {
      "metadata": {
        "id": "EseXwHxp9k_k",
        "colab_type": "code",
        "colab": {}
      },
      "cell_type": "code",
      "source": [
        "b= [10,20 ,\"Hello\", [True , 3.14]]"
      ],
      "execution_count": 0,
      "outputs": []
    },
    {
      "metadata": {
        "id": "gwenOsse9n-U",
        "colab_type": "code",
        "colab": {
          "base_uri": "https://localhost:8080/",
          "height": 53
        },
        "outputId": "06c0627e-bf0e-4478-e862-baaf7f58ca26"
      },
      "cell_type": "code",
      "source": [
        "#b[3] 또는 b[-1] 값은 [True, 3.14] 리스트 전체임\n",
        "\n",
        "print(\"b[0]==\", b[0], \",b[2]==\", b[2], \",b[3]==\", b[3])\n",
        "print(\"b[-1]==\", b[-1], \",b[-2]==\", b[2], \",b[-4]==\", b[-4])"
      ],
      "execution_count": 0,
      "outputs": [
        {
          "output_type": "stream",
          "text": [
            "b[0]== 10 ,b[2]== Hello ,b[3]== [True, 3.14]\n",
            "b[-1]== [True, 3.14] ,b[-2]== Hello ,b[-4]== 10\n"
          ],
          "name": "stdout"
        }
      ]
    },
    {
      "metadata": {
        "id": "OAOZhWnGB0W0",
        "colab_type": "code",
        "colab": {
          "base_uri": "https://localhost:8080/",
          "height": 53
        },
        "outputId": "8acae40f-2d8a-45b9-a5e7-c8c93808efe7"
      },
      "cell_type": "code",
      "source": [
        "print(\"b[3][0]==\", b[3][0],\",b[3][1]==\", b[3][1])\n",
        "print(\"b[-1][-1]==\", b[-1][-1],\",b[-1][-2]==\", b[-1][-2])"
      ],
      "execution_count": 0,
      "outputs": [
        {
          "output_type": "stream",
          "text": [
            "b[3][0]== True ,b[3][1]== 3.14\n",
            "b[-1][-1]== 3.14 ,b[-1][-2]== True\n"
          ],
          "name": "stdout"
        }
      ]
    },
    {
      "metadata": {
        "id": "e2E6a3wMC7Ll",
        "colab_type": "code",
        "colab": {
          "base_uri": "https://localhost:8080/",
          "height": 35
        },
        "outputId": "2c27a779-d2ad-4311-b40b-44d02bab541a"
      },
      "cell_type": "code",
      "source": [
        "b[3][0] == True, b[3][1] == 3.14\n",
        "b[-1][-1] == 3.14, b[-1][-2] == True"
      ],
      "execution_count": 0,
      "outputs": [
        {
          "output_type": "execute_result",
          "data": {
            "text/plain": [
              "(True, True)"
            ]
          },
          "metadata": {
            "tags": []
          },
          "execution_count": 12
        }
      ]
    },
    {
      "metadata": {
        "id": "VtirzJE0DM4U",
        "colab_type": "code",
        "colab": {}
      },
      "cell_type": "code",
      "source": [
        ""
      ],
      "execution_count": 0,
      "outputs": []
    },
    {
      "metadata": {
        "id": "jPexwHvvDcHK",
        "colab_type": "text"
      },
      "cell_type": "markdown",
      "source": [
        "### 데이터 타입 - dictionary\n"
      ]
    },
    {
      "metadata": {
        "id": "5Zo4oa_xDg5a",
        "colab_type": "code",
        "colab": {}
      },
      "cell_type": "code",
      "source": [
        "score = {\"KIM\" :90, \"LEE\":85,\"JUN\":95} #dictionary 생성"
      ],
      "execution_count": 0,
      "outputs": []
    },
    {
      "metadata": {
        "id": "pDr39L-6DhwB",
        "colab_type": "code",
        "colab": {
          "base_uri": "https://localhost:8080/",
          "height": 35
        },
        "outputId": "43cf3329-395f-4e27-b8a9-7c3367524ac0"
      },
      "cell_type": "code",
      "source": [
        "print(\"score['KIM']==\", score['KIM']) #원소접근"
      ],
      "execution_count": 0,
      "outputs": [
        {
          "output_type": "stream",
          "text": [
            "score['KIM']== 90\n"
          ],
          "name": "stdout"
        }
      ]
    },
    {
      "metadata": {
        "id": "B7o3EYkfENbB",
        "colab_type": "code",
        "colab": {
          "base_uri": "https://localhost:8080/",
          "height": 35
        },
        "outputId": "0ca81a40-dc92-4d4f-dda8-786f3536f7f7"
      },
      "cell_type": "code",
      "source": [
        "score['HAN'] = 100 # 새원소 추가\n",
        "#딕셔러니는 입력한 순새대로 데이터가 들어가는 것이 아니므로 주의해야함\n",
        "print(score)"
      ],
      "execution_count": 0,
      "outputs": [
        {
          "output_type": "stream",
          "text": [
            "{'KIM': 90, 'LEE': 85, 'JUN': 95, 'HAN': 100}\n"
          ],
          "name": "stdout"
        }
      ]
    },
    {
      "metadata": {
        "id": "F3NkGTWfEb5K",
        "colab_type": "code",
        "colab": {
          "base_uri": "https://localhost:8080/",
          "height": 71
        },
        "outputId": "fa6a9e7b-5d74-4c3a-dafe-b61dd9dbc0c6"
      },
      "cell_type": "code",
      "source": [
        "#딕셔너리 key ,value , (key, value) #문자열은 리스트로 처리함\n",
        "\n",
        "print(\"score key == \", score.keys())\n",
        "print(\"score value ==\", score.values())\n",
        "print(\"score items ==\", score.items() )"
      ],
      "execution_count": 0,
      "outputs": [
        {
          "output_type": "stream",
          "text": [
            "score key ==  dict_keys(['KIM', 'LEE', 'JUN', 'HAN'])\n",
            "score value == dict_values([90, 85, 95, 100])\n",
            "score items == dict_items([('KIM', 90), ('LEE', 85), ('JUN', 95), ('HAN', 100)])\n"
          ],
          "name": "stdout"
        }
      ]
    },
    {
      "metadata": {
        "id": "xW1fv8ecFAUx",
        "colab_type": "code",
        "colab": {}
      },
      "cell_type": "code",
      "source": [
        ""
      ],
      "execution_count": 0,
      "outputs": []
    },
    {
      "metadata": {
        "id": "p5bvUsy8FICB",
        "colab_type": "text"
      },
      "cell_type": "markdown",
      "source": [
        "### 데이터 타입 -string\n"
      ]
    },
    {
      "metadata": {
        "id": "F-IkdJ6BFLQs",
        "colab_type": "code",
        "colab": {}
      },
      "cell_type": "code",
      "source": [
        "a= 'A73.CD'"
      ],
      "execution_count": 0,
      "outputs": []
    },
    {
      "metadata": {
        "id": "ZLMFJdK3FThO",
        "colab_type": "code",
        "colab": {
          "base_uri": "https://localhost:8080/",
          "height": 35
        },
        "outputId": "604a3c3d-2241-4763-d251-4aef11252988"
      },
      "cell_type": "code",
      "source": [
        "a[1] #a[1]은 숫자 7이 아닌 문자열 7"
      ],
      "execution_count": 0,
      "outputs": [
        {
          "output_type": "execute_result",
          "data": {
            "text/plain": [
              "'7'"
            ]
          },
          "metadata": {
            "tags": []
          },
          "execution_count": 19
        }
      ]
    },
    {
      "metadata": {
        "id": "bQtcU9NXFYvt",
        "colab_type": "code",
        "colab": {}
      },
      "cell_type": "code",
      "source": [
        "a=a + '- EFG' #+연산자 사용"
      ],
      "execution_count": 0,
      "outputs": []
    },
    {
      "metadata": {
        "id": "MAJUzw_uGCHb",
        "colab_type": "code",
        "colab": {
          "base_uri": "https://localhost:8080/",
          "height": 35
        },
        "outputId": "6244aeec-5a72-4f92-9f2f-0398987720b1"
      },
      "cell_type": "code",
      "source": [
        "a"
      ],
      "execution_count": 0,
      "outputs": [
        {
          "output_type": "execute_result",
          "data": {
            "text/plain": [
              "'A73.CD- EFG'"
            ]
          },
          "metadata": {
            "tags": []
          },
          "execution_count": 22
        }
      ]
    },
    {
      "metadata": {
        "id": "u1XV7JOZGQTx",
        "colab_type": "code",
        "colab": {
          "base_uri": "https://localhost:8080/",
          "height": 35
        },
        "outputId": "b0432f40-fda4-4056-d836-d15f1a9dffa9"
      },
      "cell_type": "code",
      "source": [
        "#split() 메서드는 특정 seperator를 기준으로 문자열을 분리하여 list 리턴\\\n",
        "b= a.split(',')\n",
        "print(b)"
      ],
      "execution_count": 0,
      "outputs": [
        {
          "output_type": "stream",
          "text": [
            "['A73.CD- EFG']\n"
          ],
          "name": "stdout"
        }
      ]
    },
    {
      "metadata": {
        "id": "Bqk0MM7gG1Bx",
        "colab_type": "text"
      },
      "cell_type": "markdown",
      "source": [
        "## useful function - type(), len(), size()"
      ]
    },
    {
      "metadata": {
        "id": "oDsz-8B5Gxtr",
        "colab_type": "code",
        "colab": {
          "base_uri": "https://localhost:8080/",
          "height": 244
        },
        "outputId": "afbc2463-b30c-47fc-95cf-2177679787c7"
      },
      "cell_type": "code",
      "source": [
        "a= [10,20,30,40,50]\n",
        "b= (10,20,30,40,50)\n",
        "c={\"KIM\":90, \"LEE\":80}\n",
        "d= 'Seoul, Korea'\n",
        "e = [ [100,200], [300,400], [500,600]]\n",
        "\n",
        "print(type(a), type(b), type(c), type(d), type(e))\n",
        "\n",
        "print(len(a), len(b), len(c), len(d), len(e))\n",
        "\n",
        "print(size(e))"
      ],
      "execution_count": 0,
      "outputs": [
        {
          "output_type": "stream",
          "text": [
            "<class 'list'> <class 'tuple'> <class 'dict'> <class 'str'> <class 'list'>\n",
            "5 5 2 12 3\n"
          ],
          "name": "stdout"
        },
        {
          "output_type": "error",
          "ename": "NameError",
          "evalue": "ignored",
          "traceback": [
            "\u001b[0;31m---------------------------------------------------------------------------\u001b[0m",
            "\u001b[0;31mNameError\u001b[0m                                 Traceback (most recent call last)",
            "\u001b[0;32m<ipython-input-28-44bfac141a8a>\u001b[0m in \u001b[0;36m<module>\u001b[0;34m()\u001b[0m\n\u001b[1;32m      9\u001b[0m \u001b[0mprint\u001b[0m\u001b[0;34m(\u001b[0m\u001b[0mlen\u001b[0m\u001b[0;34m(\u001b[0m\u001b[0ma\u001b[0m\u001b[0;34m)\u001b[0m\u001b[0;34m,\u001b[0m \u001b[0mlen\u001b[0m\u001b[0;34m(\u001b[0m\u001b[0mb\u001b[0m\u001b[0;34m)\u001b[0m\u001b[0;34m,\u001b[0m \u001b[0mlen\u001b[0m\u001b[0;34m(\u001b[0m\u001b[0mc\u001b[0m\u001b[0;34m)\u001b[0m\u001b[0;34m,\u001b[0m \u001b[0mlen\u001b[0m\u001b[0;34m(\u001b[0m\u001b[0md\u001b[0m\u001b[0;34m)\u001b[0m\u001b[0;34m,\u001b[0m \u001b[0mlen\u001b[0m\u001b[0;34m(\u001b[0m\u001b[0me\u001b[0m\u001b[0;34m)\u001b[0m\u001b[0;34m)\u001b[0m\u001b[0;34m\u001b[0m\u001b[0m\n\u001b[1;32m     10\u001b[0m \u001b[0;34m\u001b[0m\u001b[0m\n\u001b[0;32m---> 11\u001b[0;31m \u001b[0mprint\u001b[0m\u001b[0;34m(\u001b[0m\u001b[0msize\u001b[0m\u001b[0;34m(\u001b[0m\u001b[0me\u001b[0m\u001b[0;34m)\u001b[0m\u001b[0;34m)\u001b[0m\u001b[0;34m\u001b[0m\u001b[0m\n\u001b[0m",
            "\u001b[0;31mNameError\u001b[0m: name 'size' is not defined"
          ]
        }
      ]
    },
    {
      "metadata": {
        "id": "L72o_xcRHwBq",
        "colab_type": "code",
        "colab": {}
      },
      "cell_type": "code",
      "source": [
        ""
      ],
      "execution_count": 0,
      "outputs": []
    }
  ]
}